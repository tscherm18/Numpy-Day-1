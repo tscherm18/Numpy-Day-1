{
 "cells": [
  {
   "cell_type": "markdown",
   "metadata": {
    "id": "KdERlTpFuL5V"
   },
   "source": [
    "# Exercises"
   ]
  },
  {
   "cell_type": "markdown",
   "metadata": {
    "id": "to-gsrQyuL5Z"
   },
   "source": [
    "### #1 - Calculate the BMI (body mass index) on the two lists below using NDArrays..."
   ]
  },
  {
   "cell_type": "code",
   "execution_count": 13,
   "metadata": {
    "id": "iZlf9DzeuL5a"
   },
   "outputs": [
    {
     "name": "stdout",
     "output_type": "stream",
     "text": [
      "BMI is: 16.87%\n",
      "BMI is: 17.88%\n",
      "BMI is: 18.83%\n",
      "BMI is: 19.71%\n",
      "BMI is: 20.55%\n",
      "BMI is: 21.33%\n",
      "BMI is: 22.06%\n"
     ]
    }
   ],
   "source": [
    "import numpy as np\n",
    "# formula = weight / (height**2) * 730\n",
    "height = [69, 70, 71, 72, 73, 74, 75]\n",
    "weight = [110, 120, 130, 140, 150, 160, 170]\n",
    "\n",
    "bmi = np.array(weight) / (np.array(height)**2) * 730\n",
    "for i in bmi:\n",
    "    print(\"BMI is: {}{}\".format(round(i, 2), \"%\"))"
   ]
  },
  {
   "cell_type": "markdown",
   "metadata": {
    "id": "RSsT8w8ouL5b"
   },
   "source": [
    "### #2 - Create a function that will take in two parameters and will create a random matrix based off of those parameters. Extra: Have additional parameters taken in that allow the user to choose the shape and data type of the matrix."
   ]
  },
  {
   "cell_type": "code",
   "execution_count": 18,
   "metadata": {
    "id": "ygFvj0aeuL5b"
   },
   "outputs": [
    {
     "name": "stdout",
     "output_type": "stream",
     "text": [
      "Here is a random matrix: \n",
      " [[5 1 7 9 8]\n",
      " [9 8 7 3 3]\n",
      " [2 7 4 8 3]\n",
      " [8 7 4 7 7]\n",
      " [4 1 7 5 7]]\n",
      "Here is another random matrix: \n",
      " [[13.25331867 14.23090624 10.57193826 10.90864603 12.76583446]\n",
      " [ 9.74492296 11.11623653  9.04512022 11.99963135 11.84644357]\n",
      " [12.46694866 12.77043025 14.60510613  9.81867861 13.83227258]\n",
      " [11.58251078 13.9404672   9.13791808 10.34730248 12.04642821]]\n"
     ]
    }
   ],
   "source": [
    "def random_matrix(num1, num2, shape, datatype):\n",
    "  matrix = np.random.uniform(num1, num2, shape)\n",
    "  return matrix.astype(datatype)\n",
    "\n",
    "\n",
    "print(\"Here is a random matrix: \\n\", random_matrix(1, 10, (5, 5), int))\n",
    "print(\"Here is another random matrix: \\n\", random_matrix(8, 15, (4, 5), float))\n"
   ]
  },
  {
   "cell_type": "markdown",
   "metadata": {
    "id": "e5mP1UX9uL5c"
   },
   "source": [
    "### #3 - Extra: Open and load the data in the two text files that have the Boston Red Sox hitting data for the past seasons. Compare the difference in the two years by putting the data into an NDArray and running a differencial operation on it. The column to look for will be SLG.\n",
    "\n",
    "Your output should display which year (either 2017 or 2018) was a better year based on SLG"
   ]
  },
  {
   "cell_type": "code",
   "execution_count": 60,
   "metadata": {
    "id": "iAExC-SjuL5c"
   },
   "outputs": [],
   "source": [
    "import csv\n",
    "import numpy as np"
   ]
  },
  {
   "cell_type": "code",
   "execution_count": 59,
   "metadata": {
    "id": "P8Rwr8lmuL5e"
   },
   "outputs": [
    {
     "name": "stdout",
     "output_type": "stream",
     "text": [
      "Average SLG for Red Sox in 2017: 0.393\n",
      "Average SLG for Red Sox in 2018: 0.388\n",
      "\n",
      "Overall, the difference in SLG between the two seasons is: 0.005\n"
     ]
    }
   ],
   "source": [
    "FIELDS = ['Rk', 'Pos', 'Name', 'Age', 'G', 'PA', 'AB', 'R', 'H', '2B', '3B', 'HR', 'RBI', 'SB', 'CS', \n",
    "          'BB', 'SO', 'BA', 'OBP', 'SLG', 'OPS', 'OPS+', 'TB', 'GDP', 'HBP', 'SH', 'SF', 'IBB']\n",
    "\n",
    "DATATYPES = [('rk', 'i'), ('pos', '|S25'), ('name', '|S25'), ('age', 'i'), ('g', 'i'), ('pa', 'i'), ('ab', 'i'),\n",
    "                ('r', 'i'), ('h', 'i'), ('2b', 'i'), ('3b', 'i'), ('hr', 'i'), ('rbi', 'i'), ('sb', 'i'), ('cs', 'i'),\n",
    "                ('bb', 'i'), ('so', 'i'), ('ba', 'f'), ('obp', 'f'), ('slg', 'f'), ('ops', 'f'), ('opsp', 'i'),\n",
    "                ('tb', 'i'), ('gdp', 'i'), ('hbp', 'i'), ('sh', 'i'), ('sf', 'i'), ('ibb', 'i')]\n",
    "\n",
    "#Use this function to actually open the data inside of a NDArray\n",
    "\n",
    "\n",
    "def load_data(filename, d = ','):\n",
    "    data = np.genfromtxt(filename,delimiter = d, skip_header = 1,\n",
    "                        usecols = np.arange(0,24),invalid_raise=False,\n",
    "                        names = FIELDS, dtype = DATATYPES)\n",
    "    return data\n",
    "\n",
    "bs2017 = load_data('redsox_2017_hitting.txt')\n",
    "bs2018 = load_data('redsox_2018_hitting.txt')\n",
    "\n",
    "slugging2017 = sum(bs2017['SLG'])/len(bs2017['SLG'])\n",
    "slugging2018 = sum(bs2018['SLG'])/len(bs2018['SLG'])\n",
    "\n",
    "# SLG in 2017 vs 2018\n",
    "print('Average SLG for Red Sox in 2017: {}'.format(round(slugging2017 ,3)))\n",
    "print('Average SLG for Red Sox in 2018: {}'.format(round(slugging2018 ,3)))\n",
    "\n",
    "difference = abs((round(slugging2017, 3))-(round(slugging2018, 3)))\n",
    "\n",
    "print('\\nOverall, the difference in SLG between the two seasons is: {}'.format(round(difference, 5)))\n",
    "\n",
    "# Total Hits\n",
    "# total_hits = sum(bs2018['H'])\n",
    "# print(\"\\n Total Hits: {}\".format(total_hits))\n",
    "\n",
    "# # Home Runs Total\n",
    "# total_HR = sum(bs2018['HR'])\n",
    "# print('\\n Total Home Runs in 2018: {}'.format(total_HR))\n"
   ]
  },
  {
   "cell_type": "code",
   "execution_count": null,
   "metadata": {},
   "outputs": [],
   "source": []
  }
 ],
 "metadata": {
  "colab": {
   "name": "Copy of Data_Science_Day_1_Exercises-Day1- Homework.ipynb",
   "provenance": []
  },
  "kernelspec": {
   "display_name": "Python 3 (ipykernel)",
   "language": "python",
   "name": "python3"
  },
  "language_info": {
   "codemirror_mode": {
    "name": "ipython",
    "version": 3
   },
   "file_extension": ".py",
   "mimetype": "text/x-python",
   "name": "python",
   "nbconvert_exporter": "python",
   "pygments_lexer": "ipython3",
   "version": "3.11.7"
  }
 },
 "nbformat": 4,
 "nbformat_minor": 1
}
